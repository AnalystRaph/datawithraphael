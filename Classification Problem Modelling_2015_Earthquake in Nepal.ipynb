{
 "cells": [
  {
   "cell_type": "markdown",
   "id": "1d05bc0e-a554-48cd-955d-6ad33fb5319b",
   "metadata": {},
   "source": [
    "Import Important/Required Python Modules"
   ]
  },
  {
   "cell_type": "code",
   "execution_count": 2,
   "id": "e73f5623-b237-4d2c-a49e-42634d4991de",
   "metadata": {},
   "outputs": [],
   "source": [
    "import warnings\n",
    "import matplotlib.pyplot as plt\n",
    "import numpy as np\n",
    "import pandas as pd\n",
    "import seaborn as sns\n",
    "from category_encoders import OneHotEncoder\n",
    "from sklearn.linear_model import LogisticRegression\n",
    "from sklearn.metrics import accuracy_score\n",
    "from sklearn.model_selection import train_test_split\n",
    "from sklearn.pipeline import Pipeline, make_pipeline\n",
    "warnings.simplefilter(action=\"ignore\", category=FutureWarning)"
   ]
  },
  {
   "cell_type": "markdown",
   "id": "8413a829-9e93-4f96-a88c-347de06ed5eb",
   "metadata": {},
   "source": [
    "Read the Nepal 2015 Earthquake CSV dataset file into memory"
   ]
  },
  {
   "cell_type": "code",
   "execution_count": 4,
   "id": "0683f635-7608-4e32-af7b-d8060bbece55",
   "metadata": {},
   "outputs": [],
   "source": [
    "#Read our dataset into a pandas data frame\n",
    "df=pd.read_csv(\"C:/Users/Raphael.karinguri/Desktop/KARINGURI R/nepal_2015 earthquake/eq2015.csv\")"
   ]
  },
  {
   "cell_type": "markdown",
   "id": "6e545758-7e6d-4e1b-9dcb-34f66b6ee42e",
   "metadata": {},
   "source": [
    "Data Inspection and Cleaning"
   ]
  },
  {
   "cell_type": "code",
   "execution_count": 6,
   "id": "19eed899-b6c1-44b1-8743-1aa4e8c51539",
   "metadata": {},
   "outputs": [
    {
     "name": "stdout",
     "output_type": "stream",
     "text": [
      "<class 'pandas.core.frame.DataFrame'>\n",
      "RangeIndex: 762106 entries, 0 to 762105\n",
      "Data columns (total 21 columns):\n",
      " #   Column                       Non-Null Count   Dtype \n",
      "---  ------                       --------------   ----- \n",
      " 0   building_id                  762106 non-null  int64 \n",
      " 1   district_id                  762106 non-null  int64 \n",
      " 2   vdcmun_id                    762106 non-null  int64 \n",
      " 3   ward_id                      762106 non-null  int64 \n",
      " 4   count_floors_pre_eq          762106 non-null  int64 \n",
      " 5   count_floors_post_eq         762106 non-null  int64 \n",
      " 6   age_building                 762106 non-null  int64 \n",
      " 7   plinth_area_sq_ft            762106 non-null  int64 \n",
      " 8   height_ft_pre_eq             762106 non-null  int64 \n",
      " 9   height_ft_post_eq            762106 non-null  int64 \n",
      " 10  land_surface_condition       762106 non-null  object\n",
      " 11  foundation_type              762106 non-null  object\n",
      " 12  roof_type                    762106 non-null  object\n",
      " 13  ground_floor_type            762106 non-null  object\n",
      " 14  other_floor_type             762106 non-null  object\n",
      " 15  position                     762105 non-null  object\n",
      " 16  plan_configuration           762105 non-null  object\n",
      " 17  condition_post_eq            762106 non-null  object\n",
      " 18  damage_grade                 762094 non-null  object\n",
      " 19  technical_solution_proposed  762094 non-null  object\n",
      " 20  superstructure               762106 non-null  object\n",
      "dtypes: int64(10), object(11)\n",
      "memory usage: 122.1+ MB\n"
     ]
    },
    {
     "data": {
      "text/html": [
       "<div>\n",
       "<style scoped>\n",
       "    .dataframe tbody tr th:only-of-type {\n",
       "        vertical-align: middle;\n",
       "    }\n",
       "\n",
       "    .dataframe tbody tr th {\n",
       "        vertical-align: top;\n",
       "    }\n",
       "\n",
       "    .dataframe thead th {\n",
       "        text-align: right;\n",
       "    }\n",
       "</style>\n",
       "<table border=\"1\" class=\"dataframe\">\n",
       "  <thead>\n",
       "    <tr style=\"text-align: right;\">\n",
       "      <th></th>\n",
       "      <th>building_id</th>\n",
       "      <th>district_id</th>\n",
       "      <th>vdcmun_id</th>\n",
       "      <th>ward_id</th>\n",
       "      <th>count_floors_pre_eq</th>\n",
       "      <th>count_floors_post_eq</th>\n",
       "      <th>age_building</th>\n",
       "      <th>plinth_area_sq_ft</th>\n",
       "      <th>height_ft_pre_eq</th>\n",
       "      <th>height_ft_post_eq</th>\n",
       "      <th>...</th>\n",
       "      <th>foundation_type</th>\n",
       "      <th>roof_type</th>\n",
       "      <th>ground_floor_type</th>\n",
       "      <th>other_floor_type</th>\n",
       "      <th>position</th>\n",
       "      <th>plan_configuration</th>\n",
       "      <th>condition_post_eq</th>\n",
       "      <th>damage_grade</th>\n",
       "      <th>technical_solution_proposed</th>\n",
       "      <th>superstructure</th>\n",
       "    </tr>\n",
       "  </thead>\n",
       "  <tbody>\n",
       "    <tr>\n",
       "      <th>0</th>\n",
       "      <td>120101000011</td>\n",
       "      <td>12</td>\n",
       "      <td>1207</td>\n",
       "      <td>120703</td>\n",
       "      <td>1</td>\n",
       "      <td>1</td>\n",
       "      <td>9</td>\n",
       "      <td>288</td>\n",
       "      <td>9</td>\n",
       "      <td>9</td>\n",
       "      <td>...</td>\n",
       "      <td>Other</td>\n",
       "      <td>Bamboo/Timber-Light roof</td>\n",
       "      <td>Mud</td>\n",
       "      <td>Not applicable</td>\n",
       "      <td>Not attached</td>\n",
       "      <td>Rectangular</td>\n",
       "      <td>Damaged-Used in risk</td>\n",
       "      <td>Grade 3</td>\n",
       "      <td>Major repair</td>\n",
       "      <td>has_superstructure_mud_mortar_stone</td>\n",
       "    </tr>\n",
       "    <tr>\n",
       "      <th>1</th>\n",
       "      <td>120101000021</td>\n",
       "      <td>12</td>\n",
       "      <td>1207</td>\n",
       "      <td>120703</td>\n",
       "      <td>1</td>\n",
       "      <td>1</td>\n",
       "      <td>15</td>\n",
       "      <td>364</td>\n",
       "      <td>9</td>\n",
       "      <td>9</td>\n",
       "      <td>...</td>\n",
       "      <td>Other</td>\n",
       "      <td>Bamboo/Timber-Light roof</td>\n",
       "      <td>Mud</td>\n",
       "      <td>Not applicable</td>\n",
       "      <td>Not attached</td>\n",
       "      <td>Rectangular</td>\n",
       "      <td>Damaged-Repaired and used</td>\n",
       "      <td>Grade 5</td>\n",
       "      <td>Reconstruction</td>\n",
       "      <td>has_superstructure_mud_mortar_stone</td>\n",
       "    </tr>\n",
       "    <tr>\n",
       "      <th>2</th>\n",
       "      <td>120101000031</td>\n",
       "      <td>12</td>\n",
       "      <td>1207</td>\n",
       "      <td>120703</td>\n",
       "      <td>1</td>\n",
       "      <td>1</td>\n",
       "      <td>20</td>\n",
       "      <td>384</td>\n",
       "      <td>9</td>\n",
       "      <td>9</td>\n",
       "      <td>...</td>\n",
       "      <td>Other</td>\n",
       "      <td>Bamboo/Timber-Light roof</td>\n",
       "      <td>Mud</td>\n",
       "      <td>Not applicable</td>\n",
       "      <td>Not attached</td>\n",
       "      <td>Rectangular</td>\n",
       "      <td>Damaged-Repaired and used</td>\n",
       "      <td>Grade 2</td>\n",
       "      <td>Minor repair</td>\n",
       "      <td>has_superstructure_mud_mortar_stone</td>\n",
       "    </tr>\n",
       "    <tr>\n",
       "      <th>3</th>\n",
       "      <td>120101000041</td>\n",
       "      <td>12</td>\n",
       "      <td>1207</td>\n",
       "      <td>120703</td>\n",
       "      <td>1</td>\n",
       "      <td>1</td>\n",
       "      <td>20</td>\n",
       "      <td>312</td>\n",
       "      <td>9</td>\n",
       "      <td>9</td>\n",
       "      <td>...</td>\n",
       "      <td>Other</td>\n",
       "      <td>Bamboo/Timber-Light roof</td>\n",
       "      <td>Mud</td>\n",
       "      <td>Not applicable</td>\n",
       "      <td>Not attached</td>\n",
       "      <td>Rectangular</td>\n",
       "      <td>Damaged-Repaired and used</td>\n",
       "      <td>Grade 2</td>\n",
       "      <td>Minor repair</td>\n",
       "      <td>has_superstructure_mud_mortar_stone</td>\n",
       "    </tr>\n",
       "    <tr>\n",
       "      <th>4</th>\n",
       "      <td>120101000051</td>\n",
       "      <td>12</td>\n",
       "      <td>1207</td>\n",
       "      <td>120703</td>\n",
       "      <td>1</td>\n",
       "      <td>1</td>\n",
       "      <td>30</td>\n",
       "      <td>308</td>\n",
       "      <td>9</td>\n",
       "      <td>9</td>\n",
       "      <td>...</td>\n",
       "      <td>Other</td>\n",
       "      <td>Bamboo/Timber-Light roof</td>\n",
       "      <td>Mud</td>\n",
       "      <td>Not applicable</td>\n",
       "      <td>Not attached</td>\n",
       "      <td>Rectangular</td>\n",
       "      <td>Damaged-Repaired and used</td>\n",
       "      <td>Grade 1</td>\n",
       "      <td>Minor repair</td>\n",
       "      <td>has_superstructure_mud_mortar_stone</td>\n",
       "    </tr>\n",
       "  </tbody>\n",
       "</table>\n",
       "<p>5 rows × 21 columns</p>\n",
       "</div>"
      ],
      "text/plain": [
       "    building_id  district_id  vdcmun_id  ward_id  count_floors_pre_eq  \\\n",
       "0  120101000011           12       1207   120703                    1   \n",
       "1  120101000021           12       1207   120703                    1   \n",
       "2  120101000031           12       1207   120703                    1   \n",
       "3  120101000041           12       1207   120703                    1   \n",
       "4  120101000051           12       1207   120703                    1   \n",
       "\n",
       "   count_floors_post_eq  age_building  plinth_area_sq_ft  height_ft_pre_eq  \\\n",
       "0                     1             9                288                 9   \n",
       "1                     1            15                364                 9   \n",
       "2                     1            20                384                 9   \n",
       "3                     1            20                312                 9   \n",
       "4                     1            30                308                 9   \n",
       "\n",
       "   height_ft_post_eq  ... foundation_type                 roof_type  \\\n",
       "0                  9  ...           Other  Bamboo/Timber-Light roof   \n",
       "1                  9  ...           Other  Bamboo/Timber-Light roof   \n",
       "2                  9  ...           Other  Bamboo/Timber-Light roof   \n",
       "3                  9  ...           Other  Bamboo/Timber-Light roof   \n",
       "4                  9  ...           Other  Bamboo/Timber-Light roof   \n",
       "\n",
       "  ground_floor_type other_floor_type      position plan_configuration  \\\n",
       "0               Mud   Not applicable  Not attached        Rectangular   \n",
       "1               Mud   Not applicable  Not attached        Rectangular   \n",
       "2               Mud   Not applicable  Not attached        Rectangular   \n",
       "3               Mud   Not applicable  Not attached        Rectangular   \n",
       "4               Mud   Not applicable  Not attached        Rectangular   \n",
       "\n",
       "           condition_post_eq damage_grade technical_solution_proposed  \\\n",
       "0       Damaged-Used in risk      Grade 3                Major repair   \n",
       "1  Damaged-Repaired and used      Grade 5              Reconstruction   \n",
       "2  Damaged-Repaired and used      Grade 2                Minor repair   \n",
       "3  Damaged-Repaired and used      Grade 2                Minor repair   \n",
       "4  Damaged-Repaired and used      Grade 1                Minor repair   \n",
       "\n",
       "                        superstructure  \n",
       "0  has_superstructure_mud_mortar_stone  \n",
       "1  has_superstructure_mud_mortar_stone  \n",
       "2  has_superstructure_mud_mortar_stone  \n",
       "3  has_superstructure_mud_mortar_stone  \n",
       "4  has_superstructure_mud_mortar_stone  \n",
       "\n",
       "[5 rows x 21 columns]"
      ]
     },
     "execution_count": 6,
     "metadata": {},
     "output_type": "execute_result"
    }
   ],
   "source": [
    "df.shape\n",
    "df.info()\n",
    "df.head()"
   ]
  },
  {
   "cell_type": "markdown",
   "id": "b7a70e86-f24d-44c3-9ea3-0f6b3cfbae2c",
   "metadata": {},
   "source": [
    "# Identify and drop any Leakey columns. \n",
    "I.e any columns that may have any information regarding a building after the earthquake. We have to drop these columns before building our model because we do not want our model to have any information post the earthquke which might affect it's performance and predictive power.In this case we'll have to drop any post_eq column using a  *'for loop'*."
   ]
  },
  {
   "cell_type": "code",
   "execution_count": 8,
   "id": "d52a0b2c-7b84-4f3f-bd0a-6192d3522c24",
   "metadata": {},
   "outputs": [
    {
     "name": "stdout",
     "output_type": "stream",
     "text": [
      "<class 'pandas.core.frame.DataFrame'>\n",
      "RangeIndex: 762106 entries, 0 to 762105\n",
      "Data columns (total 18 columns):\n",
      " #   Column                       Non-Null Count   Dtype \n",
      "---  ------                       --------------   ----- \n",
      " 0   building_id                  762106 non-null  int64 \n",
      " 1   district_id                  762106 non-null  int64 \n",
      " 2   vdcmun_id                    762106 non-null  int64 \n",
      " 3   ward_id                      762106 non-null  int64 \n",
      " 4   count_floors_pre_eq          762106 non-null  int64 \n",
      " 5   age_building                 762106 non-null  int64 \n",
      " 6   plinth_area_sq_ft            762106 non-null  int64 \n",
      " 7   height_ft_pre_eq             762106 non-null  int64 \n",
      " 8   land_surface_condition       762106 non-null  object\n",
      " 9   foundation_type              762106 non-null  object\n",
      " 10  roof_type                    762106 non-null  object\n",
      " 11  ground_floor_type            762106 non-null  object\n",
      " 12  other_floor_type             762106 non-null  object\n",
      " 13  position                     762105 non-null  object\n",
      " 14  plan_configuration           762105 non-null  object\n",
      " 15  damage_grade                 762094 non-null  object\n",
      " 16  technical_solution_proposed  762094 non-null  object\n",
      " 17  superstructure               762106 non-null  object\n",
      "dtypes: int64(8), object(10)\n",
      "memory usage: 104.7+ MB\n"
     ]
    }
   ],
   "source": [
    "#Identify leakey columns\n",
    "leaky_cols=[col for col in df.columns if\"post_eq\" in col]\n",
    "#drop columns\n",
    "df.drop(columns=leaky_cols, inplace=True)\n",
    "#check\n",
    "df.info()"
   ]
  },
  {
   "cell_type": "markdown",
   "id": "0d14d818-d828-485f-93e6-2659a9beaea5",
   "metadata": {},
   "source": [
    "# Change categorical columns dtype to object\n",
    "From the info output above, we notice that there are some categorical columns (building_id,district_id,vdcmun_id,ward_id) that were read into the DF as ints. To ensure that this doesn't affect our model later on, et us conver these columns to str/objects"
   ]
  },
  {
   "cell_type": "code",
   "execution_count": 10,
   "id": "b82b181b-a361-4a2e-95b7-9896b332a012",
   "metadata": {},
   "outputs": [
    {
     "name": "stdout",
     "output_type": "stream",
     "text": [
      "building_id                    object\n",
      "district_id                    object\n",
      "vdcmun_id                      object\n",
      "ward_id                        object\n",
      "count_floors_pre_eq             int64\n",
      "age_building                    int64\n",
      "plinth_area_sq_ft               int64\n",
      "height_ft_pre_eq                int64\n",
      "land_surface_condition         object\n",
      "foundation_type                object\n",
      "roof_type                      object\n",
      "ground_floor_type              object\n",
      "other_floor_type               object\n",
      "position                       object\n",
      "plan_configuration             object\n",
      "damage_grade                   object\n",
      "technical_solution_proposed    object\n",
      "superstructure                 object\n",
      "dtype: object\n"
     ]
    }
   ],
   "source": [
    "# Convert categorical ID columns to string (object)\n",
    "categorical_columns = ['building_id', 'district_id', 'vdcmun_id', 'ward_id']\n",
    "df[categorical_columns] = df[categorical_columns].astype(str)\n",
    "\n",
    "# Verify the changes\n",
    "print(df.dtypes)"
   ]
  },
  {
   "cell_type": "markdown",
   "id": "3bc4be0d-d447-4055-bd6e-7a0721fd4554",
   "metadata": {},
   "source": [
    "## Identify and Drop High cardinality columns\n",
    "A high cardinality column is a categorical column that has a large number of unique values relative to the dataset size."
   ]
  },
  {
   "cell_type": "code",
   "execution_count": 12,
   "id": "03dc818a-f3fa-4b33-bed4-35076d5af7d1",
   "metadata": {},
   "outputs": [
    {
     "name": "stdout",
     "output_type": "stream",
     "text": [
      "building_id    762106\n",
      "district_id        11\n",
      "vdcmun_id         110\n",
      "ward_id           945\n",
      "dtype: int64\n"
     ]
    }
   ],
   "source": [
    "# Display the number of unique values per categorical columns\n",
    "unique_counts = df[categorical_columns].nunique()\n",
    "# Print the result\n",
    "print(unique_counts)"
   ]
  },
  {
   "cell_type": "markdown",
   "id": "47129167-d25a-40a2-a423-add9681b47e6",
   "metadata": {},
   "source": [
    "From these columns, building_id has the highest cardinality (762,094 unique values), making it a strong candidate for removal.\n",
    "\n",
    "## Why Drop building_id?\n",
    "Extremely High Cardinality: It’s likely a unique identifier (like an ID column), which doesn’t provide meaningful patterns for a model.\n",
    "Low Predictive Power: Since it’s unique for almost every record, it won’t generalize well in machine learning.\n",
    "Encoding Overhead: If used in categorical encoding (e.g., one-hot encoding), it would create a massive number of features, making training inefficient."
   ]
  },
  {
   "cell_type": "code",
   "execution_count": 14,
   "id": "996f76c9-ff7a-45bc-a1be-1a40e3cc2ff6",
   "metadata": {},
   "outputs": [],
   "source": [
    "#drop high cardinality column\n",
    "df.drop(columns=\"building_id\", inplace=True)"
   ]
  },
  {
   "cell_type": "markdown",
   "id": "0e0256c5-1b66-426c-8553-1611aca1d520",
   "metadata": {},
   "source": [
    "Inspect the dataset by displaying the null valus per each column in the nepal earthquake dataset"
   ]
  },
  {
   "cell_type": "code",
   "execution_count": 16,
   "id": "1d766d59-5794-4bb7-95a2-de4533e8efba",
   "metadata": {},
   "outputs": [
    {
     "data": {
      "text/plain": [
       "district_id                     0\n",
       "vdcmun_id                       0\n",
       "ward_id                         0\n",
       "count_floors_pre_eq             0\n",
       "age_building                    0\n",
       "plinth_area_sq_ft               0\n",
       "height_ft_pre_eq                0\n",
       "land_surface_condition          0\n",
       "foundation_type                 0\n",
       "roof_type                       0\n",
       "ground_floor_type               0\n",
       "other_floor_type                0\n",
       "position                        1\n",
       "plan_configuration              1\n",
       "damage_grade                   12\n",
       "technical_solution_proposed    12\n",
       "superstructure                  0\n",
       "dtype: int64"
      ]
     },
     "execution_count": 16,
     "metadata": {},
     "output_type": "execute_result"
    }
   ],
   "source": [
    "df.isnull().sum()"
   ]
  },
  {
   "cell_type": "markdown",
   "id": "d2b50c1c-d641-408c-ba20-b35a2d5747b5",
   "metadata": {},
   "source": [
    "It is evident that there are some null values in the position,plan_configuration,damage_grade and technical_solution_proposed columns. Clean the dataset by dropping the null values"
   ]
  },
  {
   "cell_type": "code",
   "execution_count": 18,
   "id": "1054311d-610b-462c-b3bf-d3a16970a00b",
   "metadata": {},
   "outputs": [],
   "source": [
    "df.dropna(inplace=True)\n"
   ]
  },
  {
   "cell_type": "markdown",
   "id": "13db1be0-cb6e-44a3-8cdd-e30bf7b331f7",
   "metadata": {},
   "source": [
    "Now that we want to build a binary classification model, we will create a new column \"severe_damage\" and have it binaries where for building where the damage grade was 4 and above will be represented by 1 and for building with a damage grade below that to be represented by 0.but before that, let's change the datatype for our column from object to int."
   ]
  },
  {
   "cell_type": "code",
   "execution_count": 20,
   "id": "527e4a49-da90-4ab0-aa86-c38ce42319fe",
   "metadata": {},
   "outputs": [],
   "source": [
    "#change damage_grade's dtype from object to int\n",
    "df[\"damage_grade\"]=df[\"damage_grade\"].str[-1].astype(int)\n",
    "#create a new binary target column named 'severe_damage'\n",
    "df[\"severe_damage\"]=(df[\"damage_grade\"]>3).astype(int)"
   ]
  },
  {
   "cell_type": "markdown",
   "id": "f2b11051-f1dd-4fba-a1e9-328e6ccdb8c5",
   "metadata": {},
   "source": [
    "now that we have a new column 'severe_damage' which will aid into our binary classification model, let's drop the intitial target column damage_grade"
   ]
  },
  {
   "cell_type": "code",
   "execution_count": 22,
   "id": "7392868e-cd8b-4e43-a9ca-bf019ea0aa15",
   "metadata": {},
   "outputs": [
    {
     "name": "stdout",
     "output_type": "stream",
     "text": [
      "<class 'pandas.core.frame.DataFrame'>\n",
      "Index: 762094 entries, 0 to 762105\n",
      "Data columns (total 17 columns):\n",
      " #   Column                       Non-Null Count   Dtype \n",
      "---  ------                       --------------   ----- \n",
      " 0   district_id                  762094 non-null  object\n",
      " 1   vdcmun_id                    762094 non-null  object\n",
      " 2   ward_id                      762094 non-null  object\n",
      " 3   count_floors_pre_eq          762094 non-null  int64 \n",
      " 4   age_building                 762094 non-null  int64 \n",
      " 5   plinth_area_sq_ft            762094 non-null  int64 \n",
      " 6   height_ft_pre_eq             762094 non-null  int64 \n",
      " 7   land_surface_condition       762094 non-null  object\n",
      " 8   foundation_type              762094 non-null  object\n",
      " 9   roof_type                    762094 non-null  object\n",
      " 10  ground_floor_type            762094 non-null  object\n",
      " 11  other_floor_type             762094 non-null  object\n",
      " 12  position                     762094 non-null  object\n",
      " 13  plan_configuration           762094 non-null  object\n",
      " 14  technical_solution_proposed  762094 non-null  object\n",
      " 15  superstructure               762094 non-null  object\n",
      " 16  severe_damage                762094 non-null  int32 \n",
      "dtypes: int32(1), int64(4), object(12)\n",
      "memory usage: 101.8+ MB\n"
     ]
    }
   ],
   "source": [
    "df.drop(columns=\"damage_grade\", inplace= True)\n",
    "df.info()"
   ]
  },
  {
   "cell_type": "markdown",
   "id": "de925cf3-5adf-4f06-a9ae-e54a8fa174dd",
   "metadata": {},
   "source": [
    "Identifying what building in our dataset suffered severe damage and those that suffered a damage grade of 3 and below by using our binary target column"
   ]
  },
  {
   "cell_type": "code",
   "execution_count": 24,
   "id": "80ba52be-b5d4-4f49-b4c2-f65ba6db09de",
   "metadata": {},
   "outputs": [
    {
     "name": "stdout",
     "output_type": "stream",
     "text": [
      "severe_damage\n",
      "1    459610\n",
      "0    302484\n",
      "Name: count, dtype: int64\n"
     ]
    }
   ],
   "source": [
    "print(df[\"severe_damage\"].value_counts())"
   ]
  },
  {
   "cell_type": "markdown",
   "id": "9eb4d55d-1196-4755-b655-6ef13c7ae311",
   "metadata": {},
   "source": [
    "## Multicollinearity in Linear Models\n",
    "\n",
    "**Definition:**  \n",
    "Multicollinearity occurs when two or more independent variables are highly correlated, making it difficult to determine their individual effects on the dependent variable.\n",
    "\n",
    "**Effects on a Linear Model:**  \n",
    "- Leads to **unstable coefficients** and high variance in estimates.  \n",
    "- Reduces **interpretability** of individual predictors.  \n",
    "- Increases **standard errors**, making significance testing unreliable.  \n",
    "- Causes **poor model generalization** to unseen data.  \n",
    "- May introduce **numerical instability** in computations. "
   ]
  },
  {
   "cell_type": "markdown",
   "id": "d462b414-dd81-41d0-b09e-1c1a662d607f",
   "metadata": {},
   "source": [
    "Now that we'll be building a linear model, we'll have to identify and drop any columns that would bring about multicollinearity. To visualize this, we'll use a correlating heatmap which will help us in identifying numerical columns that might be correlated to each other"
   ]
  },
  {
   "cell_type": "code",
   "execution_count": 27,
   "id": "b8e925be-e54e-4724-bcff-335549cf1050",
   "metadata": {},
   "outputs": [
    {
     "data": {
      "image/png": "[encoded data removed]",
      "text/plain": [
       "<Figure size 640x480 with 2 Axes>"
      ]
     },
     "metadata": {},
     "output_type": "display_data"
    }
   ],
   "source": [
    "# Create correlation matrix\n",
    "correlation = df.select_dtypes(\"number\").drop(columns=\"severe_damage\").corr()\n",
    "# Plot heatmap of `correlation`\n",
    "sns.heatmap(correlation);"
   ]
  },
  {
   "cell_type": "markdown",
   "id": "b674043e-1522-48a8-8fc8-58debefa7fd3",
   "metadata": {},
   "source": [
    "From the hatmap above, it is evident tht there is a strong correlation between *count_floors_pre_eq* and *height_ft_pre_eq* and this would bring about a challenge to our model. In this case we'll drop the *count_floors_pre_eq* due to it's higher correlation with our target column"
   ]
  },
  {
   "cell_type": "code",
   "execution_count": 29,
   "id": "9c9e928a-432e-401e-ba06-e7f97164e7a9",
   "metadata": {},
   "outputs": [],
   "source": [
    "#drop multicollinearity columns\n",
    "df.drop(columns=\"count_floors_pre_eq\", inplace=True)"
   ]
  },
  {
   "cell_type": "markdown",
   "id": "42a600c4-dc07-48a5-a028-1707735b751d",
   "metadata": {},
   "source": [
    "## EDA"
   ]
  },
  {
   "cell_type": "markdown",
   "id": "3b378a07-addf-4a70-8a2e-cb733485a885",
   "metadata": {},
   "source": [
    "Are there obvious differences between houses that were severely damaged and those that were not?\n",
    "Module: seaborn, Viz: boxplot"
   ]
  },
  {
   "cell_type": "code",
   "execution_count": 32,
   "id": "bfb1b148-7d2e-4626-857d-ac2f6d3a3a0b",
   "metadata": {},
   "outputs": [
    {
     "data": {
      "text/plain": [
       "Text(0.5, 1.0, 'Distribution of Building Height by damage severity')"
      ]
     },
     "execution_count": 32,
     "metadata": {},
     "output_type": "execute_result"
    },
    {
     "data": {
      "image/png": "[encoded data removed]",
      "text/plain": [
       "<Figure size 640x480 with 1 Axes>"
      ]
     },
     "metadata": {},
     "output_type": "display_data"
    }
   ],
   "source": [
    "# Create boxplot\n",
    "sns.boxplot(x=\"severe_damage\", y=\"height_ft_pre_eq\", data=df)\n",
    "# axes labels uing pyloyt\n",
    "plt.xlabel(\"Severe Damage\")\n",
    "plt.ylabel(\"Height Pre-Earthquake[ft.]\")\n",
    "plt.title(\"Distribution of Building Height by damage severity\")"
   ]
  },
  {
   "cell_type": "markdown",
   "id": "e820e71a-62c5-4d29-a279-1b125441746c",
   "metadata": {},
   "source": [
    "The box plot compares building heights before an earthquake across two damage severity categories (0: Grade ≤ 3, 1: Grade > 4). The median building heights for both categories are similar, with slightly higher variability in severely damaged buildings. Both distributions show a large number of outliers, indicating some very tall buildings. However, the overall height distribution does not show a strong distinction between the two damage severity levels, suggesting that building height alone may not be a key determinant of severe damage."
   ]
  },
  {
   "cell_type": "markdown",
   "id": "a7ca8edd-4123-41e7-a7db-d99f0ffcd4b5",
   "metadata": {},
   "source": [
    "What's the relative frequency of the buildings that were severely damaged and those that were not?"
   ]
  },
  {
   "cell_type": "code",
   "execution_count": 35,
   "id": "4cca5b43-6a63-4003-8682-78e82d2bb853",
   "metadata": {},
   "outputs": [
    {
     "data": {
      "text/plain": [
       "<Axes: title={'center': 'Severity Class Balance'}, xlabel='Damage Class', ylabel='Relative Frequency'>"
      ]
     },
     "execution_count": 35,
     "metadata": {},
     "output_type": "execute_result"
    },
    {
     "data": {
      "image/png": "[encoded data removed]",
      "text/plain": [
       "<Figure size 640x480 with 1 Axes>"
      ]
     },
     "metadata": {},
     "output_type": "display_data"
    }
   ],
   "source": [
    "# Plot value counts of `\"severe_damage\"`\n",
    "df[\"severe_damage\"].value_counts(normalize=True).plot(\n",
    "    kind=\"bar\", xlabel=\"Damage Class\", ylabel =\"Relative Frequency\", title=\"Severity Class Balance\"\n",
    ")"
   ]
  },
  {
   "cell_type": "markdown",
   "id": "6b2707f7-525e-4421-9489-33e2beb4f4ba",
   "metadata": {},
   "source": [
    "The bar chart shows the relative frequency of buildings that were severely damaged (`1`) versus those that were not (`0`). The majority of buildings (around **60-65%**) fall into the **severely damaged** category, while the remaining **35-40%** experienced **less severe damage**. This indicates that a significant proportion of buildings in the dataset suffered high damage, suggesting potential vulnerability in the construction or environmental factors influencing structural integrity."
   ]
  },
  {
   "cell_type": "markdown",
   "id": "85dec5cb-493e-49c7-9326-df3b99d95d45",
   "metadata": {},
   "source": [
    "Are buildings with certain foundation types more likely to suffer severe damage?"
   ]
  },
  {
   "cell_type": "code",
   "execution_count": 38,
   "id": "5b2a1f76-4a2f-4422-9a74-df67d6aedae8",
   "metadata": {},
   "outputs": [
    {
     "data": {
      "text/html": [
       "<div>\n",
       "<style scoped>\n",
       "    .dataframe tbody tr th:only-of-type {\n",
       "        vertical-align: middle;\n",
       "    }\n",
       "\n",
       "    .dataframe tbody tr th {\n",
       "        vertical-align: top;\n",
       "    }\n",
       "\n",
       "    .dataframe thead th {\n",
       "        text-align: right;\n",
       "    }\n",
       "</style>\n",
       "<table border=\"1\" class=\"dataframe\">\n",
       "  <thead>\n",
       "    <tr style=\"text-align: right;\">\n",
       "      <th></th>\n",
       "      <th>severe_damage</th>\n",
       "    </tr>\n",
       "    <tr>\n",
       "      <th>foundation_type</th>\n",
       "      <th></th>\n",
       "    </tr>\n",
       "  </thead>\n",
       "  <tbody>\n",
       "    <tr>\n",
       "      <th>Bamboo/Timber</th>\n",
       "      <td>0.237855</td>\n",
       "    </tr>\n",
       "    <tr>\n",
       "      <th>Cement-Stone/Brick</th>\n",
       "      <td>0.296904</td>\n",
       "    </tr>\n",
       "    <tr>\n",
       "      <th>Mud mortar-Stone/Brick</th>\n",
       "      <td>0.685115</td>\n",
       "    </tr>\n",
       "    <tr>\n",
       "      <th>Other</th>\n",
       "      <td>0.510545</td>\n",
       "    </tr>\n",
       "    <tr>\n",
       "      <th>RC</th>\n",
       "      <td>0.038263</td>\n",
       "    </tr>\n",
       "  </tbody>\n",
       "</table>\n",
       "</div>"
      ],
      "text/plain": [
       "                        severe_damage\n",
       "foundation_type                      \n",
       "Bamboo/Timber                0.237855\n",
       "Cement-Stone/Brick           0.296904\n",
       "Mud mortar-Stone/Brick       0.685115\n",
       "Other                        0.510545\n",
       "RC                           0.038263"
      ]
     },
     "execution_count": 38,
     "metadata": {},
     "output_type": "execute_result"
    }
   ],
   "source": [
    "majority_class_prop, minority_class_prop = df[\"severe_damage\"].value_counts(normalize=True)\n",
    "# foundation_type_pivot table\n",
    "foundation_type_pivot = pd.pivot_table(\n",
    "    df,index=\"foundation_type\", values=\"severe_damage\", aggfunc=np.mean\n",
    ")\n",
    "foundation_type_pivot"
   ]
  },
  {
   "cell_type": "markdown",
   "id": "31b91056-70e9-421c-82e8-57936af3af50",
   "metadata": {},
   "source": [
    "The data reveals that buildings with **mud mortar-stone/brick** foundations are the most vulnerable to severe damage, with 68.5% of them affected, while **reinforced concrete (RC)** foundations are the most resilient, with only 3.8% experiencing severe damage. Foundations categorized as **Other** have an intermediate vulnerability at 51.1%, and **cement-stone/brick** foundations show a moderate vulnerability at 29.7%. Overall, the analysis highlights that mud mortar-stone/brick foundations are most prone to severe damage, whereas RC foundations are least likely to face significant damage."
   ]
  },
  {
   "cell_type": "code",
   "execution_count": null,
   "id": "4bd84dc6-d624-4962-9c12-f9f3b47ac665",
   "metadata": {},
   "outputs": [],
   "source": [
    "df.drop(columns=[\"district_id\",\"district_id\",\"ward_id\",\"vdcmun_id\"], inplace=True)"
   ]
  },
  {
   "cell_type": "markdown",
   "id": "21953ce6-b3bc-42a1-a526-2fca81683b42",
   "metadata": {},
   "source": [
    "## Splitting our dataset into training and test data"
   ]
  },
  {
   "cell_type": "code",
   "execution_count": 82,
   "id": "c01be61d-9a00-4cf4-99e9-e19021883af0",
   "metadata": {},
   "outputs": [],
   "source": [
    "#our target column\n",
    "target_column=\"severe_damage\"\n",
    "#our feature matrix \n",
    "X=df.drop(columns=target_column)\n",
    "#target vector\n",
    "y=df[target_column]"
   ]
  },
  {
   "cell_type": "code",
   "execution_count": 78,
   "id": "a03f714b-ce6a-4fbc-b3de-0ce484520bc8",
   "metadata": {},
   "outputs": [
    {
     "name": "stdout",
     "output_type": "stream",
     "text": [
      "<class 'pandas.core.frame.DataFrame'>\n",
      "Index: 762094 entries, 0 to 762105\n",
      "Data columns (total 13 columns):\n",
      " #   Column                       Non-Null Count   Dtype \n",
      "---  ------                       --------------   ----- \n",
      " 0   age_building                 762094 non-null  int64 \n",
      " 1   plinth_area_sq_ft            762094 non-null  int64 \n",
      " 2   height_ft_pre_eq             762094 non-null  int64 \n",
      " 3   land_surface_condition       762094 non-null  object\n",
      " 4   foundation_type              762094 non-null  object\n",
      " 5   roof_type                    762094 non-null  object\n",
      " 6   ground_floor_type            762094 non-null  object\n",
      " 7   other_floor_type             762094 non-null  object\n",
      " 8   position                     762094 non-null  object\n",
      " 9   plan_configuration           762094 non-null  object\n",
      " 10  technical_solution_proposed  762094 non-null  object\n",
      " 11  superstructure               762094 non-null  object\n",
      " 12  severe_damage                762094 non-null  int32 \n",
      "dtypes: int32(1), int64(3), object(9)\n",
      "memory usage: 78.5+ MB\n"
     ]
    }
   ],
   "source": [
    "df.info()"
   ]
  },
  {
   "cell_type": "markdown",
   "id": "543f419a-f5ce-46e0-89ab-3780b467404a",
   "metadata": {},
   "source": [
    "## Randomized train-test split \n",
    "test test:20% of the data. random_state included for reproducibility"
   ]
  },
  {
   "cell_type": "code",
   "execution_count": 84,
   "id": "2a2d3754-3e53-4b80-869a-7478bd935d96",
   "metadata": {},
   "outputs": [
    {
     "name": "stdout",
     "output_type": "stream",
     "text": [
      "X_train shape: (609675, 12)\n",
      "y_train shape: (609675,)\n",
      "X_test shape: (152419, 12)\n",
      "y_test shape: (152419,)\n"
     ]
    }
   ],
   "source": [
    "X_train, X_test, y_train, y_test = train_test_split(\n",
    "    X, y, test_size=0.2, random_state=42\n",
    ")\n",
    "\n",
    "print(\"X_train shape:\", X_train.shape)\n",
    "print(\"y_train shape:\", y_train.shape)\n",
    "print(\"X_test shape:\", X_test.shape)\n",
    "print(\"y_test shape:\", y_test.shape)"
   ]
  },
  {
   "cell_type": "markdown",
   "id": "2991e0db-c7aa-4dfe-abbe-64dba7e06089",
   "metadata": {},
   "source": [
    "## Model"
   ]
  },
  {
   "cell_type": "code",
   "execution_count": 87,
   "id": "691d16fd-149c-4350-9971-59f2b6f8253e",
   "metadata": {},
   "outputs": [
    {
     "name": "stdout",
     "output_type": "stream",
     "text": [
      "Baseline Accuracy: 0.6\n"
     ]
    }
   ],
   "source": [
    "#Baseline\n",
    "y_train.value_counts(normalize=True).max()\n",
    "#Baseline accuracy score\n",
    "acc_baseline = y_train.value_counts(normalize=True).max()\n",
    "print(\"Baseline Accuracy:\", round(acc_baseline, 2))"
   ]
  },
  {
   "cell_type": "markdown",
   "id": "9a516fde-573b-43a0-8aa6-4a9f8db2fe09",
   "metadata": {},
   "source": [
    "A baseline accuracy score of 0.6 means that the model correctly predicts the target variable 60% of the time. This provides a starting point for evaluating the model’s performance, indicating that it performs better than random guessing but still has room for improvement."
   ]
  },
  {
   "cell_type": "code",
   "execution_count": 93,
   "id": "7398f4d8-12e0-4782-893a-57f9dd8f9d0f",
   "metadata": {},
   "outputs": [
    {
     "data": {
      "text/html": [
       "<style>#sk-container-id-3 {\n",
       "  /* Definition of color scheme common for light and dark mode */\n",
       "  --sklearn-color-text: #000;\n",
       "  --sklearn-color-text-muted: #666;\n",
       "  --sklearn-color-line: gray;\n",
       "  /* Definition of color scheme for unfitted estimators */\n",
       "  --sklearn-color-unfitted-level-0: #fff5e6;\n",
       "  --sklearn-color-unfitted-level-1: #f6e4d2;\n",
       "  --sklearn-color-unfitted-level-2: #ffe0b3;\n",
       "  --sklearn-color-unfitted-level-3: chocolate;\n",
       "  /* Definition of color scheme for fitted estimators */\n",
       "  --sklearn-color-fitted-level-0: #f0f8ff;\n",
       "  --sklearn-color-fitted-level-1: #d4ebff;\n",
       "  --sklearn-color-fitted-level-2: #b3dbfd;\n",
       "  --sklearn-color-fitted-level-3: cornflowerblue;\n",
       "\n",
       "  /* Specific color for light theme */\n",
       "  --sklearn-color-text-on-default-background: var(--sg-text-color, var(--theme-code-foreground, var(--jp-content-font-color1, black)));\n",
       "  --sklearn-color-background: var(--sg-background-color, var(--theme-background, var(--jp-layout-color0, white)));\n",
       "  --sklearn-color-border-box: var(--sg-text-color, var(--theme-code-foreground, var(--jp-content-font-color1, black)));\n",
       "  --sklearn-color-icon: #696969;\n",
       "\n",
       "  @media (prefers-color-scheme: dark) {\n",
       "    /* Redefinition of color scheme for dark theme */\n",
       "    --sklearn-color-text-on-default-background: var(--sg-text-color, var(--theme-code-foreground, var(--jp-content-font-color1, white)));\n",
       "    --sklearn-color-background: var(--sg-background-color, var(--theme-background, var(--jp-layout-color0, #111)));\n",
       "    --sklearn-color-border-box: var(--sg-text-color, var(--theme-code-foreground, var(--jp-content-font-color1, white)));\n",
       "    --sklearn-color-icon: #878787;\n",
       "  }\n",
       "}\n",
       "\n",
       "#sk-container-id-3 {\n",
       "  color: var(--sklearn-color-text);\n",
       "}\n",
       "\n",
       "#sk-container-id-3 pre {\n",
       "  padding: 0;\n",
       "}\n",
       "\n",
       "#sk-container-id-3 input.sk-hidden--visually {\n",
       "  border: 0;\n",
       "  clip: rect(1px 1px 1px 1px);\n",
       "  clip: rect(1px, 1px, 1px, 1px);\n",
       "  height: 1px;\n",
       "  margin: -1px;\n",
       "  overflow: hidden;\n",
       "  padding: 0;\n",
       "  position: absolute;\n",
       "  width: 1px;\n",
       "}\n",
       "\n",
       "#sk-container-id-3 div.sk-dashed-wrapped {\n",
       "  border: 1px dashed var(--sklearn-color-line);\n",
       "  margin: 0 0.4em 0.5em 0.4em;\n",
       "  box-sizing: border-box;\n",
       "  padding-bottom: 0.4em;\n",
       "  background-color: var(--sklearn-color-background);\n",
       "}\n",
       "\n",
       "#sk-container-id-3 div.sk-container {\n",
       "  /* jupyter's `normalize.less` sets `[hidden] { display: none; }`\n",
       "     but bootstrap.min.css set `[hidden] { display: none !important; }`\n",
       "     so we also need the `!important` here to be able to override the\n",
       "     default hidden behavior on the sphinx rendered scikit-learn.org.\n",
       "     See: https://github.com/scikit-learn/scikit-learn/issues/21755 */\n",
       "  display: inline-block !important;\n",
       "  position: relative;\n",
       "}\n",
       "\n",
       "#sk-container-id-3 div.sk-text-repr-fallback {\n",
       "  display: none;\n",
       "}\n",
       "\n",
       "div.sk-parallel-item,\n",
       "div.sk-serial,\n",
       "div.sk-item {\n",
       "  /* draw centered vertical line to link estimators */\n",
       "  background-image: linear-gradient(var(--sklearn-color-text-on-default-background), var(--sklearn-color-text-on-default-background));\n",
       "  background-size: 2px 100%;\n",
       "  background-repeat: no-repeat;\n",
       "  background-position: center center;\n",
       "}\n",
       "\n",
       "/* Parallel-specific style estimator block */\n",
       "\n",
       "#sk-container-id-3 div.sk-parallel-item::after {\n",
       "  content: \"\";\n",
       "  width: 100%;\n",
       "  border-bottom: 2px solid var(--sklearn-color-text-on-default-background);\n",
       "  flex-grow: 1;\n",
       "}\n",
       "\n",
       "#sk-container-id-3 div.sk-parallel {\n",
       "  display: flex;\n",
       "  align-items: stretch;\n",
       "  justify-content: center;\n",
       "  background-color: var(--sklearn-color-background);\n",
       "  position: relative;\n",
       "}\n",
       "\n",
       "#sk-container-id-3 div.sk-parallel-item {\n",
       "  display: flex;\n",
       "  flex-direction: column;\n",
       "}\n",
       "\n",
       "#sk-container-id-3 div.sk-parallel-item:first-child::after {\n",
       "  align-self: flex-end;\n",
       "  width: 50%;\n",
       "}\n",
       "\n",
       "#sk-container-id-3 div.sk-parallel-item:last-child::after {\n",
       "  align-self: flex-start;\n",
       "  width: 50%;\n",
       "}\n",
       "\n",
       "#sk-container-id-3 div.sk-parallel-item:only-child::after {\n",
       "  width: 0;\n",
       "}\n",
       "\n",
       "/* Serial-specific style estimator block */\n",
       "\n",
       "#sk-container-id-3 div.sk-serial {\n",
       "  display: flex;\n",
       "  flex-direction: column;\n",
       "  align-items: center;\n",
       "  background-color: var(--sklearn-color-background);\n",
       "  padding-right: 1em;\n",
       "  padding-left: 1em;\n",
       "}\n",
       "\n",
       "\n",
       "/* Toggleable style: style used for estimator/Pipeline/ColumnTransformer box that is\n",
       "clickable and can be expanded/collapsed.\n",
       "- Pipeline and ColumnTransformer use this feature and define the default style\n",
       "- Estimators will overwrite some part of the style using the `sk-estimator` class\n",
       "*/\n",
       "\n",
       "/* Pipeline and ColumnTransformer style (default) */\n",
       "\n",
       "#sk-container-id-3 div.sk-toggleable {\n",
       "  /* Default theme specific background. It is overwritten whether we have a\n",
       "  specific estimator or a Pipeline/ColumnTransformer */\n",
       "  background-color: var(--sklearn-color-background);\n",
       "}\n",
       "\n",
       "/* Toggleable label */\n",
       "#sk-container-id-3 label.sk-toggleable__label {\n",
       "  cursor: pointer;\n",
       "  display: flex;\n",
       "  width: 100%;\n",
       "  margin-bottom: 0;\n",
       "  padding: 0.5em;\n",
       "  box-sizing: border-box;\n",
       "  text-align: center;\n",
       "  align-items: start;\n",
       "  justify-content: space-between;\n",
       "  gap: 0.5em;\n",
       "}\n",
       "\n",
       "#sk-container-id-3 label.sk-toggleable__label .caption {\n",
       "  font-size: 0.6rem;\n",
       "  font-weight: lighter;\n",
       "  color: var(--sklearn-color-text-muted);\n",
       "}\n",
       "\n",
       "#sk-container-id-3 label.sk-toggleable__label-arrow:before {\n",
       "  /* Arrow on the left of the label */\n",
       "  content: \"▸\";\n",
       "  float: left;\n",
       "  margin-right: 0.25em;\n",
       "  color: var(--sklearn-color-icon);\n",
       "}\n",
       "\n",
       "#sk-container-id-3 label.sk-toggleable__label-arrow:hover:before {\n",
       "  color: var(--sklearn-color-text);\n",
       "}\n",
       "\n",
       "/* Toggleable content - dropdown */\n",
       "\n",
       "#sk-container-id-3 div.sk-toggleable__content {\n",
       "  max-height: 0;\n",
       "  max-width: 0;\n",
       "  overflow: hidden;\n",
       "  text-align: left;\n",
       "  /* unfitted */\n",
       "  background-color: var(--sklearn-color-unfitted-level-0);\n",
       "}\n",
       "\n",
       "#sk-container-id-3 div.sk-toggleable__content.fitted {\n",
       "  /* fitted */\n",
       "  background-color: var(--sklearn-color-fitted-level-0);\n",
       "}\n",
       "\n",
       "#sk-container-id-3 div.sk-toggleable__content pre {\n",
       "  margin: 0.2em;\n",
       "  border-radius: 0.25em;\n",
       "  color: var(--sklearn-color-text);\n",
       "  /* unfitted */\n",
       "  background-color: var(--sklearn-color-unfitted-level-0);\n",
       "}\n",
       "\n",
       "#sk-container-id-3 div.sk-toggleable__content.fitted pre {\n",
       "  /* unfitted */\n",
       "  background-color: var(--sklearn-color-fitted-level-0);\n",
       "}\n",
       "\n",
       "#sk-container-id-3 input.sk-toggleable__control:checked~div.sk-toggleable__content {\n",
       "  /* Expand drop-down */\n",
       "  max-height: 200px;\n",
       "  max-width: 100%;\n",
       "  overflow: auto;\n",
       "}\n",
       "\n",
       "#sk-container-id-3 input.sk-toggleable__control:checked~label.sk-toggleable__label-arrow:before {\n",
       "  content: \"▾\";\n",
       "}\n",
       "\n",
       "/* Pipeline/ColumnTransformer-specific style */\n",
       "\n",
       "#sk-container-id-3 div.sk-label input.sk-toggleable__control:checked~label.sk-toggleable__label {\n",
       "  color: var(--sklearn-color-text);\n",
       "  background-color: var(--sklearn-color-unfitted-level-2);\n",
       "}\n",
       "\n",
       "#sk-container-id-3 div.sk-label.fitted input.sk-toggleable__control:checked~label.sk-toggleable__label {\n",
       "  background-color: var(--sklearn-color-fitted-level-2);\n",
       "}\n",
       "\n",
       "/* Estimator-specific style */\n",
       "\n",
       "/* Colorize estimator box */\n",
       "#sk-container-id-3 div.sk-estimator input.sk-toggleable__control:checked~label.sk-toggleable__label {\n",
       "  /* unfitted */\n",
       "  background-color: var(--sklearn-color-unfitted-level-2);\n",
       "}\n",
       "\n",
       "#sk-container-id-3 div.sk-estimator.fitted input.sk-toggleable__control:checked~label.sk-toggleable__label {\n",
       "  /* fitted */\n",
       "  background-color: var(--sklearn-color-fitted-level-2);\n",
       "}\n",
       "\n",
       "#sk-container-id-3 div.sk-label label.sk-toggleable__label,\n",
       "#sk-container-id-3 div.sk-label label {\n",
       "  /* The background is the default theme color */\n",
       "  color: var(--sklearn-color-text-on-default-background);\n",
       "}\n",
       "\n",
       "/* On hover, darken the color of the background */\n",
       "#sk-container-id-3 div.sk-label:hover label.sk-toggleable__label {\n",
       "  color: var(--sklearn-color-text);\n",
       "  background-color: var(--sklearn-color-unfitted-level-2);\n",
       "}\n",
       "\n",
       "/* Label box, darken color on hover, fitted */\n",
       "#sk-container-id-3 div.sk-label.fitted:hover label.sk-toggleable__label.fitted {\n",
       "  color: var(--sklearn-color-text);\n",
       "  background-color: var(--sklearn-color-fitted-level-2);\n",
       "}\n",
       "\n",
       "/* Estimator label */\n",
       "\n",
       "#sk-container-id-3 div.sk-label label {\n",
       "  font-family: monospace;\n",
       "  font-weight: bold;\n",
       "  display: inline-block;\n",
       "  line-height: 1.2em;\n",
       "}\n",
       "\n",
       "#sk-container-id-3 div.sk-label-container {\n",
       "  text-align: center;\n",
       "}\n",
       "\n",
       "/* Estimator-specific */\n",
       "#sk-container-id-3 div.sk-estimator {\n",
       "  font-family: monospace;\n",
       "  border: 1px dotted var(--sklearn-color-border-box);\n",
       "  border-radius: 0.25em;\n",
       "  box-sizing: border-box;\n",
       "  margin-bottom: 0.5em;\n",
       "  /* unfitted */\n",
       "  background-color: var(--sklearn-color-unfitted-level-0);\n",
       "}\n",
       "\n",
       "#sk-container-id-3 div.sk-estimator.fitted {\n",
       "  /* fitted */\n",
       "  background-color: var(--sklearn-color-fitted-level-0);\n",
       "}\n",
       "\n",
       "/* on hover */\n",
       "#sk-container-id-3 div.sk-estimator:hover {\n",
       "  /* unfitted */\n",
       "  background-color: var(--sklearn-color-unfitted-level-2);\n",
       "}\n",
       "\n",
       "#sk-container-id-3 div.sk-estimator.fitted:hover {\n",
       "  /* fitted */\n",
       "  background-color: var(--sklearn-color-fitted-level-2);\n",
       "}\n",
       "\n",
       "/* Specification for estimator info (e.g. \"i\" and \"?\") */\n",
       "\n",
       "/* Common style for \"i\" and \"?\" */\n",
       "\n",
       ".sk-estimator-doc-link,\n",
       "a:link.sk-estimator-doc-link,\n",
       "a:visited.sk-estimator-doc-link {\n",
       "  float: right;\n",
       "  font-size: smaller;\n",
       "  line-height: 1em;\n",
       "  font-family: monospace;\n",
       "  background-color: var(--sklearn-color-background);\n",
       "  border-radius: 1em;\n",
       "  height: 1em;\n",
       "  width: 1em;\n",
       "  text-decoration: none !important;\n",
       "  margin-left: 0.5em;\n",
       "  text-align: center;\n",
       "  /* unfitted */\n",
       "  border: var(--sklearn-color-unfitted-level-1) 1pt solid;\n",
       "  color: var(--sklearn-color-unfitted-level-1);\n",
       "}\n",
       "\n",
       ".sk-estimator-doc-link.fitted,\n",
       "a:link.sk-estimator-doc-link.fitted,\n",
       "a:visited.sk-estimator-doc-link.fitted {\n",
       "  /* fitted */\n",
       "  border: var(--sklearn-color-fitted-level-1) 1pt solid;\n",
       "  color: var(--sklearn-color-fitted-level-1);\n",
       "}\n",
       "\n",
       "/* On hover */\n",
       "div.sk-estimator:hover .sk-estimator-doc-link:hover,\n",
       ".sk-estimator-doc-link:hover,\n",
       "div.sk-label-container:hover .sk-estimator-doc-link:hover,\n",
       ".sk-estimator-doc-link:hover {\n",
       "  /* unfitted */\n",
       "  background-color: var(--sklearn-color-unfitted-level-3);\n",
       "  color: var(--sklearn-color-background);\n",
       "  text-decoration: none;\n",
       "}\n",
       "\n",
       "div.sk-estimator.fitted:hover .sk-estimator-doc-link.fitted:hover,\n",
       ".sk-estimator-doc-link.fitted:hover,\n",
       "div.sk-label-container:hover .sk-estimator-doc-link.fitted:hover,\n",
       ".sk-estimator-doc-link.fitted:hover {\n",
       "  /* fitted */\n",
       "  background-color: var(--sklearn-color-fitted-level-3);\n",
       "  color: var(--sklearn-color-background);\n",
       "  text-decoration: none;\n",
       "}\n",
       "\n",
       "/* Span, style for the box shown on hovering the info icon */\n",
       ".sk-estimator-doc-link span {\n",
       "  display: none;\n",
       "  z-index: 9999;\n",
       "  position: relative;\n",
       "  font-weight: normal;\n",
       "  right: .2ex;\n",
       "  padding: .5ex;\n",
       "  margin: .5ex;\n",
       "  width: min-content;\n",
       "  min-width: 20ex;\n",
       "  max-width: 50ex;\n",
       "  color: var(--sklearn-color-text);\n",
       "  box-shadow: 2pt 2pt 4pt #999;\n",
       "  /* unfitted */\n",
       "  background: var(--sklearn-color-unfitted-level-0);\n",
       "  border: .5pt solid var(--sklearn-color-unfitted-level-3);\n",
       "}\n",
       "\n",
       ".sk-estimator-doc-link.fitted span {\n",
       "  /* fitted */\n",
       "  background: var(--sklearn-color-fitted-level-0);\n",
       "  border: var(--sklearn-color-fitted-level-3);\n",
       "}\n",
       "\n",
       ".sk-estimator-doc-link:hover span {\n",
       "  display: block;\n",
       "}\n",
       "\n",
       "/* \"?\"-specific style due to the `<a>` HTML tag */\n",
       "\n",
       "#sk-container-id-3 a.estimator_doc_link {\n",
       "  float: right;\n",
       "  font-size: 1rem;\n",
       "  line-height: 1em;\n",
       "  font-family: monospace;\n",
       "  background-color: var(--sklearn-color-background);\n",
       "  border-radius: 1rem;\n",
       "  height: 1rem;\n",
       "  width: 1rem;\n",
       "  text-decoration: none;\n",
       "  /* unfitted */\n",
       "  color: var(--sklearn-color-unfitted-level-1);\n",
       "  border: var(--sklearn-color-unfitted-level-1) 1pt solid;\n",
       "}\n",
       "\n",
       "#sk-container-id-3 a.estimator_doc_link.fitted {\n",
       "  /* fitted */\n",
       "  border: var(--sklearn-color-fitted-level-1) 1pt solid;\n",
       "  color: var(--sklearn-color-fitted-level-1);\n",
       "}\n",
       "\n",
       "/* On hover */\n",
       "#sk-container-id-3 a.estimator_doc_link:hover {\n",
       "  /* unfitted */\n",
       "  background-color: var(--sklearn-color-unfitted-level-3);\n",
       "  color: var(--sklearn-color-background);\n",
       "  text-decoration: none;\n",
       "}\n",
       "\n",
       "#sk-container-id-3 a.estimator_doc_link.fitted:hover {\n",
       "  /* fitted */\n",
       "  background-color: var(--sklearn-color-fitted-level-3);\n",
       "}\n",
       "</style><div id=\"sk-container-id-3\" class=\"sk-top-container\"><div class=\"sk-text-repr-fallback\"><pre>Pipeline(steps=[(&#x27;onehotencoder&#x27;,\n",
       "                 OneHotEncoder(cols=[&#x27;land_surface_condition&#x27;,\n",
       "                                     &#x27;foundation_type&#x27;, &#x27;roof_type&#x27;,\n",
       "                                     &#x27;ground_floor_type&#x27;, &#x27;other_floor_type&#x27;,\n",
       "                                     &#x27;position&#x27;, &#x27;plan_configuration&#x27;,\n",
       "                                     &#x27;technical_solution_proposed&#x27;,\n",
       "                                     &#x27;superstructure&#x27;],\n",
       "                               use_cat_names=True)),\n",
       "                (&#x27;logisticregression&#x27;, LogisticRegression(max_iter=3000))])</pre><b>In a Jupyter environment, please rerun this cell to show the HTML representation or trust the notebook. <br />On GitHub, the HTML representation is unable to render, please try loading this page with nbviewer.org.</b></div><div class=\"sk-container\" hidden><div class=\"sk-item sk-dashed-wrapped\"><div class=\"sk-label-container\"><div class=\"sk-label fitted sk-toggleable\"><input class=\"sk-toggleable__control sk-hidden--visually\" id=\"sk-estimator-id-7\" type=\"checkbox\" ><label for=\"sk-estimator-id-7\" class=\"sk-toggleable__label fitted sk-toggleable__label-arrow\"><div><div>Pipeline</div></div><div><a class=\"sk-estimator-doc-link fitted\" rel=\"noreferrer\" target=\"_blank\" href=\"https://scikit-learn.org/1.6/modules/generated/sklearn.pipeline.Pipeline.html\">?<span>Documentation for Pipeline</span></a><span class=\"sk-estimator-doc-link fitted\">i<span>Fitted</span></span></div></label><div class=\"sk-toggleable__content fitted\"><pre>Pipeline(steps=[(&#x27;onehotencoder&#x27;,\n",
       "                 OneHotEncoder(cols=[&#x27;land_surface_condition&#x27;,\n",
       "                                     &#x27;foundation_type&#x27;, &#x27;roof_type&#x27;,\n",
       "                                     &#x27;ground_floor_type&#x27;, &#x27;other_floor_type&#x27;,\n",
       "                                     &#x27;position&#x27;, &#x27;plan_configuration&#x27;,\n",
       "                                     &#x27;technical_solution_proposed&#x27;,\n",
       "                                     &#x27;superstructure&#x27;],\n",
       "                               use_cat_names=True)),\n",
       "                (&#x27;logisticregression&#x27;, LogisticRegression(max_iter=3000))])</pre></div> </div></div><div class=\"sk-serial\"><div class=\"sk-item\"><div class=\"sk-estimator fitted sk-toggleable\"><input class=\"sk-toggleable__control sk-hidden--visually\" id=\"sk-estimator-id-8\" type=\"checkbox\" ><label for=\"sk-estimator-id-8\" class=\"sk-toggleable__label fitted sk-toggleable__label-arrow\"><div><div>OneHotEncoder</div></div></label><div class=\"sk-toggleable__content fitted\"><pre>OneHotEncoder(cols=[&#x27;land_surface_condition&#x27;, &#x27;foundation_type&#x27;, &#x27;roof_type&#x27;,\n",
       "                    &#x27;ground_floor_type&#x27;, &#x27;other_floor_type&#x27;, &#x27;position&#x27;,\n",
       "                    &#x27;plan_configuration&#x27;, &#x27;technical_solution_proposed&#x27;,\n",
       "                    &#x27;superstructure&#x27;],\n",
       "              use_cat_names=True)</pre></div> </div></div><div class=\"sk-item\"><div class=\"sk-estimator fitted sk-toggleable\"><input class=\"sk-toggleable__control sk-hidden--visually\" id=\"sk-estimator-id-9\" type=\"checkbox\" ><label for=\"sk-estimator-id-9\" class=\"sk-toggleable__label fitted sk-toggleable__label-arrow\"><div><div>LogisticRegression</div></div><div><a class=\"sk-estimator-doc-link fitted\" rel=\"noreferrer\" target=\"_blank\" href=\"https://scikit-learn.org/1.6/modules/generated/sklearn.linear_model.LogisticRegression.html\">?<span>Documentation for LogisticRegression</span></a></div></label><div class=\"sk-toggleable__content fitted\"><pre>LogisticRegression(max_iter=3000)</pre></div> </div></div></div></div></div></div>"
      ],
      "text/plain": [
       "Pipeline(steps=[('onehotencoder',\n",
       "                 OneHotEncoder(cols=['land_surface_condition',\n",
       "                                     'foundation_type', 'roof_type',\n",
       "                                     'ground_floor_type', 'other_floor_type',\n",
       "                                     'position', 'plan_configuration',\n",
       "                                     'technical_solution_proposed',\n",
       "                                     'superstructure'],\n",
       "                               use_cat_names=True)),\n",
       "                ('logisticregression', LogisticRegression(max_iter=3000))])"
      ]
     },
     "execution_count": 93,
     "metadata": {},
     "output_type": "execute_result"
    }
   ],
   "source": [
    "# Build model\n",
    "model = make_pipeline(\n",
    "    OneHotEncoder(use_cat_names=True),\n",
    "    LogisticRegression(solver='lbfgs', max_iter=3000)\n",
    ")\n",
    "\n",
    "# Fit model to training data\n",
    "model.fit(X_train, y_train)"
   ]
  },
  {
   "cell_type": "markdown",
   "id": "eee56e5c-731c-4c47-8fb6-69bb71bd4aa4",
   "metadata": {},
   "source": [
    "## Model Evaluation"
   ]
  },
  {
   "cell_type": "code",
   "execution_count": 96,
   "id": "541c8434-769e-4af5-a984-b8c8704cd3a4",
   "metadata": {},
   "outputs": [
    {
     "name": "stdout",
     "output_type": "stream",
     "text": [
      "Training Accuracy: 0.94\n",
      "Test Accuracy: 0.94\n"
     ]
    }
   ],
   "source": [
    "#Accuracy scores for the training and test models\n",
    "acc_train = accuracy_score(y_train, model.predict(X_train))\n",
    "acc_test = model.score(X_test, y_test)\n",
    "\n",
    "print(\"Training Accuracy:\", round(acc_train, 2))\n",
    "print(\"Test Accuracy:\", round(acc_test, 2))"
   ]
  },
  {
   "cell_type": "code",
   "execution_count": 110,
   "id": "9008cef3-2d3d-4548-a8ea-eef094e0f3b0",
   "metadata": {},
   "outputs": [
    {
     "data": {
      "text/plain": [
       "technical_solution_proposed_No need         0.021330\n",
       "technical_solution_proposed_Minor repair    0.031128\n",
       "ground_floor_type_Timber                    0.505841\n",
       "roof_type_RCC/RB/RBC                        0.579002\n",
       "other_floor_type_TImber/Bamboo-Mud          0.609525\n",
       "dtype: float64"
      ]
     },
     "execution_count": 110,
     "metadata": {},
     "output_type": "execute_result"
    }
   ],
   "source": [
    "#Feature Importances\n",
    "features = model.named_steps[\"onehotencoder\"].get_feature_names()\n",
    "importances = model.named_steps[\"logisticregression\"].coef_[0]\n",
    "\n",
    "#Odds Ratio\n",
    "odds_ratios = pd.Series(np.exp(importances),index=features).sort_values()\n",
    "odds_ratios.head()"
   ]
  },
  {
   "cell_type": "code",
   "execution_count": 121,
   "id": "61521b10-7dff-42a6-9046-7931af53c616",
   "metadata": {},
   "outputs": [
    {
     "data": {
      "image/png": "[encoded data removed]",
      "text/plain": [
       "<Figure size 640x480 with 1 Axes>"
      ]
     },
     "metadata": {},
     "output_type": "display_data"
    }
   ],
   "source": [
    "# Horizontal bar chart, 10 largest coefficients\n",
    "odds_ratios.head(10).plot(kind=\"barh\")\n",
    "plt.xlabel(\"Odds Ratio\");"
   ]
  },
  {
   "cell_type": "markdown",
   "id": "851b90bc-4f9d-429d-bed4-0aec7b2eec4e",
   "metadata": {},
   "source": [
    "Why Calculate the Odds Ratio?\n",
    "The odds ratio (OR) helps interpret the influence of each feature in a logistic regression model by converting log-odds into a more understandable measure. An OR greater than 1 indicates the feature increases earthquake probability, while an OR less than 1 decreases it. By analyzing the odds ratio, we can identify the most influential factors affecting earthquake risk.\n",
    "\n",
    "## Interpretation\n",
    "The bar chart highlights the top 10 features with the highest odds ratios, meaning they have the strongest impact on the model's predictions. The most significant factor is position_Not attached, suggesting that detached buildings are more vulnerable to earthquake damage. Foundation type, construction material, and land surface condition also play crucial roles. Meanwhile, buildings needing minor or no repairs have the lowest odds of being impacted. This insight helps guide structural improvements and risk mitigation efforts."
   ]
  },
  {
   "cell_type": "code",
   "execution_count": null,
   "id": "75d72324-2446-47f7-9c14-dcfd2cfce38a",
   "metadata": {},
   "outputs": [],
   "source": []
  }
 ],
 "metadata": {
  "kernelspec": {
   "display_name": "Python 3 (ipykernel)",
   "language": "python",
   "name": "python3"
  },
  "language_info": {
   "codemirror_mode": {
    "name": "ipython",
    "version": 3
   },
   "file_extension": ".py",
   "mimetype": "text/x-python",
   "name": "python",
   "nbconvert_exporter": "python",
   "pygments_lexer": "ipython3",
   "version": "3.12.4"
  }
 },
 "nbformat": 4,
 "nbformat_minor": 5
}
